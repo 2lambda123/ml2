{
 "metadata": {
  "language_info": {
   "codemirror_mode": {
    "name": "ipython",
    "version": 3
   },
   "file_extension": ".py",
   "mimetype": "text/x-python",
   "name": "python",
   "nbconvert_exporter": "python",
   "pygments_lexer": "ipython3",
   "version": "3.7.3"
  },
  "orig_nbformat": 4,
  "kernelspec": {
   "name": "python3",
   "display_name": "Python 3.7.3 64-bit ('ml2': pyenv)"
  },
  "interpreter": {
   "hash": "8caa4319d59a734f94e739df6b594acde678ec5f2e3eb7152d087fc4a1992669"
  }
 },
 "nbformat": 4,
 "nbformat_minor": 2,
 "cells": [
  {
   "cell_type": "markdown",
   "source": [
    "# LTL Spec Pattern Data"
   ],
   "metadata": {}
  },
  {
   "cell_type": "code",
   "execution_count": 1,
   "source": [
    "from ml2.ltl import LTLSpecPatternData"
   ],
   "outputs": [],
   "metadata": {}
  },
  {
   "cell_type": "markdown",
   "source": [
    "## Load"
   ],
   "metadata": {}
  },
  {
   "cell_type": "code",
   "execution_count": 2,
   "source": [
    "data = LTLSpecPatternData.load('scp-0')"
   ],
   "outputs": [
    {
     "output_type": "stream",
     "name": "stderr",
     "text": [
      "INFO:ml2.artifact:Found data scp-0 locally\n",
      "INFO:ml2.ltl.ltl_spec.ltl_spec_pattern_data:Read in 1942 guarantee patterns\n",
      "INFO:ml2.ltl.ltl_spec.ltl_spec_pattern_data:Read in 157 assumption patterns\n",
      "INFO:ml2.ltl.ltl_spec.ltl_spec_pattern_data:Read in metadata\n",
      "INFO:ml2.ltl.ltl_spec.ltl_spec_pattern_data:Successfully constructed dataset of 1942 guarantee patterns and 157 assumption patterns\n"
     ]
    }
   ],
   "metadata": {}
  },
  {
   "cell_type": "markdown",
   "source": [
    "## Upload"
   ],
   "metadata": {}
  },
  {
   "cell_type": "code",
   "execution_count": 3,
   "source": [
    "LTLSpecPatternData.upload('scp-0')"
   ],
   "outputs": [],
   "metadata": {}
  }
 ]
}